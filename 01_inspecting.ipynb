{
 "cells": [
  {
   "cell_type": "markdown",
   "metadata": {},
   "source": [
    "# Inspecting the PubMed Paper Dataset"
   ]
  },
  {
   "cell_type": "markdown",
   "metadata": {},
   "source": [
    "_(Adapted from: Inspecting the dataset - [Luís F. Simões](mailto:luis.simoes@vu.nl). Assignments added by J.E. Hoeksema, 2014-10-16. Converted to Python 3 and minor changes by Tobias Kuhn, 2015-10-23.)_\n",
    "\n",
    "*******"
   ]
  },
  {
   "cell_type": "markdown",
   "metadata": {},
   "source": [
    "This notebook's purpose is to provide a basic illustration of how to handle data in the PubMed dataset, as well as to provide some basic assignments about this dataset. Make sure you download all the dataset files (`air__Summaries.pkl.bz2`, etc.) from Blackboard and save them in a directory called `data`, which should be a sub-directory of the one that contains this notebook file (or adjust the file path in the code). The dataset consists of information about scientific papers from the PubMed dataset that contain the word \"air\" in the title or abstract.\n",
    "\n",
    "Note that you can run all of this code from a normal python or ipython shell, except for certain magic codes (marked with %) used for display within a notebook."
   ]
  },
  {
   "cell_type": "markdown",
   "metadata": {},
   "source": [
    "## Loading the dataset"
   ]
  },
  {
   "cell_type": "code",
   "execution_count": 1,
   "metadata": {
    "collapsed": false
   },
   "outputs": [],
   "source": [
    "import pickle, bz2\n",
    "\n",
    "Summaries_file = 'data/air__Summaries.pkl.bz2'\n",
    "Summaries = pickle.load( bz2.BZ2File( Summaries_file, 'rb' ) )"
   ]
  },
  {
   "cell_type": "markdown",
   "metadata": {},
   "source": [
    "To make it easier to access the data, we convert here paper entries into [named tuples](http://docs.python.org/3/library/collections.html#collections.namedtuple). This will allow us to refer to fields by keyword, rather than index."
   ]
  },
  {
   "cell_type": "code",
   "execution_count": 2,
   "metadata": {
    "collapsed": false
   },
   "outputs": [],
   "source": [
    "from collections import namedtuple\n",
    "\n",
    "paper = namedtuple( 'paper', ['title', 'authors', 'year', 'doi'] )\n",
    "\n",
    "for (id, paper_info) in Summaries.items():\n",
    "    Summaries[id] = paper( *paper_info )"
   ]
  },
  {
   "cell_type": "code",
   "execution_count": 3,
   "metadata": {
    "collapsed": false
   },
   "outputs": [
    {
     "data": {
      "text/plain": [
       "paper(title='Use of Whole-Genome Sequencing to Link Burkholderia pseudomallei from Air Sampling to Mediastinal Melioidosis, Australia.', authors=['Currie BJ', 'Price EP', 'Mayo M', 'Kaestli M', 'Theobald V', 'Harrington I', 'Harrington G', 'Sarovich DS'], year=2015, doi='10.3201/eid2111.141802')"
      ]
     },
     "execution_count": 3,
     "metadata": {},
     "output_type": "execute_result"
    }
   ],
   "source": [
    "Summaries[26488732]"
   ]
  },
  {
   "cell_type": "code",
   "execution_count": 4,
   "metadata": {
    "collapsed": false
   },
   "outputs": [
    {
     "data": {
      "text/plain": [
       "'Use of Whole-Genome Sequencing to Link Burkholderia pseudomallei from Air Sampling to Mediastinal Melioidosis, Australia.'"
      ]
     },
     "execution_count": 4,
     "metadata": {},
     "output_type": "execute_result"
    }
   ],
   "source": [
    "Summaries[26488732].title"
   ]
  },
  {
   "cell_type": "markdown",
   "metadata": {},
   "source": [
    "## Dataset statistics"
   ]
  },
  {
   "cell_type": "markdown",
   "metadata": {},
   "source": [
    "Plotting relies on [matplotlib](http://matplotlib.org/), which you can download from [here](http://matplotlib.org/downloads.html) ([NumPy](http://www.numpy.org/) is also required, and can be downloaded [here](http://sourceforge.net/projects/numpy/files/NumPy/1.10.1/))."
   ]
  },
  {
   "cell_type": "code",
   "execution_count": 5,
   "metadata": {
    "collapsed": false
   },
   "outputs": [],
   "source": [
    "import matplotlib.pyplot as plt\n",
    "\n",
    "# show plots inline within the notebook\n",
    "%matplotlib inline\n",
    "# set plots' resolution\n",
    "plt.rcParams['savefig.dpi'] = 100"
   ]
  },
  {
   "cell_type": "markdown",
   "metadata": {},
   "source": [
    "### Papers per year"
   ]
  },
  {
   "cell_type": "markdown",
   "metadata": {},
   "source": [
    "Here, we will get information on how many papers in the dataset were published per year.\n",
    "\n",
    "We'll be using the [Counter](https://docs.python.org/3/library/collections.html#collections.Counter) class to determine the number of papers per year."
   ]
  },
  {
   "cell_type": "code",
   "execution_count": 6,
   "metadata": {
    "collapsed": false
   },
   "outputs": [
    {
     "name": "stdout",
     "output_type": "stream",
     "text": [
      "Number of papers in the dataset per year for the past decade:\n",
      "[(2007, 6729), (2008, 7159), (2009, 7454), (2010, 7552), (2011, 8293), (2012, 8924), (2013, 9267), (2014, 10090), (2015, 9887), (2016, 23)]\n"
     ]
    }
   ],
   "source": [
    "from collections import Counter\n",
    "\n",
    "paper_years = [ p.year for p in Summaries.values() ]\n",
    "papers_per_year = sorted( Counter(paper_years).items() )\n",
    "print('Number of papers in the dataset per year for the past decade:')\n",
    "print(papers_per_year[-10:])"
   ]
  },
  {
   "cell_type": "markdown",
   "metadata": {},
   "source": [
    "Filtering results, to obain only papers since 1950:"
   ]
  },
  {
   "cell_type": "code",
   "execution_count": 7,
   "metadata": {
    "collapsed": false
   },
   "outputs": [
    {
     "name": "stdout",
     "output_type": "stream",
     "text": [
      "Number of papers in the dataset published since 1950: 188772.\n"
     ]
    }
   ],
   "source": [
    "papers_per_year = [ (y,count) for (y,count) in papers_per_year if y >= 1950 ]\n",
    "years = [ y for (y,count) in papers_per_year ]\n",
    "nr_papers = [ count for (y,count) in papers_per_year ]\n",
    "\n",
    "print('Number of papers in the dataset published since 1950: %d.' % sum(nr_papers))"
   ]
  },
  {
   "cell_type": "markdown",
   "metadata": {},
   "source": [
    "Creating a bar plot to visualize the results (using [matplotlib.pyplot.bar](http://matplotlib.org/api/pyplot_api.html#matplotlib.pyplot.bar)):"
   ]
  },
  {
   "cell_type": "code",
   "execution_count": 8,
   "metadata": {
    "collapsed": false
   },
   "outputs": [
    {
     "data": {
      "image/png": "[encoded data removed]",
      "text/plain": [
       "<matplotlib.figure.Figure at 0x7f0af20e1390>"
      ]
     },
     "metadata": {},
     "output_type": "display_data"
    }
   ],
   "source": [
    "plt.bar( left=years, height=nr_papers, width=1.0 )\n",
    "plt.xlim(1950,2016)\n",
    "plt.xlabel('year')\n",
    "plt.ylabel('number of papers');"
   ]
  },
  {
   "cell_type": "markdown",
   "metadata": {},
   "source": [
    "### Papers per author"
   ]
  },
  {
   "cell_type": "markdown",
   "metadata": {},
   "source": [
    "Here, we will obtain the distribution characterizing the number of papers published by an author."
   ]
  },
  {
   "cell_type": "code",
   "execution_count": 9,
   "metadata": {
    "collapsed": false
   },
   "outputs": [],
   "source": [
    "# flattening out of the list of lists of authors\n",
    "authors_expanded = [\n",
    "    auth\n",
    "    for paper in Summaries.values()\n",
    "    for auth in paper.authors\n",
    "    ]\n",
    "\n",
    "nr_papers_by_author = Counter( authors_expanded )"
   ]
  },
  {
   "cell_type": "code",
   "execution_count": 10,
   "metadata": {
    "collapsed": false
   },
   "outputs": [
    {
     "name": "stdout",
     "output_type": "stream",
     "text": [
      "There are 378722 authors in the dataset with distinct names.\n",
      "\n",
      "50 authors with greatest number of papers:\n",
      "[('Kim H', 160), ('Yang J', 161), ('Wu J', 164), ('Wang Q', 165), ('Wang D', 168), ('Li W', 172), ('Chen Z', 173), ('Li C', 174), ('Liu Z', 176), ('Liu L', 181), ('Jones KC', 181), ('Zhao Y', 182), ('Zhang G', 184), ('Liu H', 187), ('Xu X', 188), ('Zhang Q', 191), ('Chen H', 191), ('Chen X', 193), ('Chen L', 196), ('Yang Y', 199), ('Zhang W', 204), ('Lee JH', 207), ('Brunekreef B', 209), ('Wang C', 224), ('Li Z', 227), ('Wang W', 227), ('Zhang Z', 233), ('Zhang H', 243), ('Li L', 243), ('Li H', 261), ('Wang Z', 275), ('Wang L', 277), ('Liu X', 277), ('Wang S', 280), ('Wang H', 299), ('Chen J', 305), ('Schwartz J', 325), ('Liu J', 337), ('Chen Y', 341), ('Li X', 369), ('Zhang L', 383), ('Zhang X', 394), ('Li J', 418), ('Zhang J', 438), ('Wang J', 446), ('Li Y', 460), ('Liu Y', 479), ('Wang X', 493), ('Zhang Y', 598), ('Wang Y', 625)]\n"
     ]
    }
   ],
   "source": [
    "print('There are %d authors in the dataset with distinct names.\\n' % len(nr_papers_by_author))\n",
    "print('50 authors with greatest number of papers:')\n",
    "print(sorted(nr_papers_by_author.items(), key=lambda i:i[1] )[-50:])"
   ]
  },
  {
   "cell_type": "markdown",
   "metadata": {},
   "source": [
    "Creating a histogram to visualize the results (using [matplotlib.pyplot.hist](http://matplotlib.org/api/pyplot_api.html#matplotlib.pyplot.hist)):"
   ]
  },
  {
   "cell_type": "code",
   "execution_count": 11,
   "metadata": {
    "collapsed": false
   },
   "outputs": [
    {
     "data": {
      "image/png": "[encoded data removed]",
      "text/plain": [
       "<matplotlib.figure.Figure at 0x7f0af24812b0>"
      ]
     },
     "metadata": {},
     "output_type": "display_data"
    }
   ],
   "source": [
    "plt.hist( x=list(nr_papers_by_author.values()), bins=range(51), histtype='step' )\n",
    "plt.yscale('log')\n",
    "plt.xlabel('number of papers authored')\n",
    "plt.ylabel('number of authors');"
   ]
  },
  {
   "cell_type": "markdown",
   "metadata": {},
   "source": [
    "### Authors per paper"
   ]
  },
  {
   "cell_type": "code",
   "execution_count": 12,
   "metadata": {
    "collapsed": false
   },
   "outputs": [
    {
     "data": {
      "image/png": "[encoded data removed]",
      "text/plain": [
       "<matplotlib.figure.Figure at 0x7f0aed13d198>"
      ]
     },
     "metadata": {},
     "output_type": "display_data"
    }
   ],
   "source": [
    "plt.hist( x=[ len(p.authors) for p in Summaries.values() ], bins=range(20), histtype='bar', align='left', normed=True )\n",
    "plt.xlabel('number of authors in one paper')\n",
    "plt.ylabel('fraction of papers')\n",
    "plt.xlim(0,15);"
   ]
  },
  {
   "cell_type": "markdown",
   "metadata": {},
   "source": [
    "### Most frequently occurring words in paper titles"
   ]
  },
  {
   "cell_type": "code",
   "execution_count": 13,
   "metadata": {
    "collapsed": false
   },
   "outputs": [],
   "source": [
    "# assemble list of words in paper titles, convert them to lowercase, and remove trailing '.'\n",
    "title_words = Counter([\n",
    "    ( word if word[-1] != '.' else word[:-1] ).lower()\n",
    "    for paper in Summaries.values()\n",
    "    for word in paper.title.split(' ')\n",
    "    if word != ''   # discard empty strings that are generated when consecutive spaces occur in the title\n",
    "    ])"
   ]
  },
  {
   "cell_type": "code",
   "execution_count": 14,
   "metadata": {
    "collapsed": false
   },
   "outputs": [
    {
     "name": "stdout",
     "output_type": "stream",
     "text": [
      "144310 distinct words occur in the paper titles.\n",
      "\n",
      "50 most frequently occurring words:\n",
      "[('case', 2738), ('pressure', 2784), ('determination', 2832), ('surface', 2914), ('water', 2951), ('method', 3002), ('cells', 3044), ('use', 3136), ('comparison', 3142), ('assessment', 3147), ('system', 3197), ('treatment', 3255), ('new', 3296), ('between', 3313), ('environmental', 3459), ('carbon', 3479), ('gas', 3484), ('model', 3494), ('health', 3943), ('evaluation', 4040), ('patients', 4179), ('oxygen', 4205), ('respiratory', 4436), ('human', 4692), ('analysis', 4714), ('after', 4892), ('pulmonary', 5242), ('as', 5373), ('lung', 6160), ('at', 6836), ('using', 7104), ('effect', 7846), ('pollution', 8047), ('exposure', 8099), ('study', 8163), ('during', 8407), ('effects', 9216), ('an', 10919), ('from', 11991), ('by', 16682), ('with', 22315), ('to', 25693), ('on', 27451), ('for', 28468), ('air', 40947), ('a', 42906), ('the', 82133), ('and', 93899), ('in', 101331), ('of', 169882)]\n"
     ]
    }
   ],
   "source": [
    "print(len(title_words), 'distinct words occur in the paper titles.\\n')\n",
    "print('50 most frequently occurring words:')\n",
    "print(sorted( title_words.items(), key=lambda i:i[1] )[-50:])"
   ]
  },
  {
   "cell_type": "markdown",
   "metadata": {},
   "source": [
    "# Assignments"
   ]
  },
  {
   "cell_type": "markdown",
   "metadata": {},
   "source": [
    "**Your name:** ..."
   ]
  },
  {
   "cell_type": "markdown",
   "metadata": {},
   "source": [
    "- Create a plot for the years from 1970 until 2015 that shows how many authors published at least one paper.  \n",
    "  _Hint:_ use a *defaultdict* with a default value of *set*. You can retrieve the number of unique items in a set `s` with `len(s)`. See also the documentation for [*set*](https://docs.python.org/3/library/stdtypes.html#set-types-set-frozenset) and [*defaultdict*](https://docs.python.org/3/library/collections.html#collections.defaultdict)"
   ]
  },
  {
   "cell_type": "code",
   "execution_count": 15,
   "metadata": {
    "collapsed": true
   },
   "outputs": [],
   "source": [
    "# Add your code here"
   ]
  },
  {
   "cell_type": "markdown",
   "metadata": {},
   "source": [
    "- Calculate and plot (e.g. using [plt.plot](http://matplotlib.org/api/pyplot_api.html#matplotlib.pyplot.plot)) a graph of the frequency of the 50 most frequent words in titles of papers, from most frequent to least frequent."
   ]
  },
  {
   "cell_type": "code",
   "execution_count": 16,
   "metadata": {
    "collapsed": true
   },
   "outputs": [],
   "source": [
    "# Add your code here"
   ]
  },
  {
   "cell_type": "markdown",
   "metadata": {},
   "source": [
    "- While keeping in mind that we are dealing with a biased (preselected) dataset about air-related papers, what do you notice when looking at the top 10 most frequent words?"
   ]
  },
  {
   "cell_type": "markdown",
   "metadata": {},
   "source": [
    "[_Write your answer text here_]"
   ]
  },
  {
   "cell_type": "code",
   "execution_count": 17,
   "metadata": {
    "collapsed": true
   },
   "outputs": [],
   "source": [
    "# Add your code here"
   ]
  },
  {
   "cell_type": "markdown",
   "metadata": {},
   "source": [
    "**Submit the answers to the assignment as a modified version of this Notebook file (file with `.ipynb` extension) that includes your code and your answers via Blackboard.**"
   ]
  }
 ],
 "metadata": {
  "kernelspec": {
   "display_name": "Python 3",
   "language": "python",
   "name": "python3"
  },
  "language_info": {
   "codemirror_mode": {
    "name": "ipython",
    "version": 3
   },
   "file_extension": ".py",
   "mimetype": "text/x-python",
   "name": "python",
   "nbconvert_exporter": "python",
   "pygments_lexer": "ipython3",
   "version": "3.5.0+"
  }
 },
 "nbformat": 4,
 "nbformat_minor": 0
}
